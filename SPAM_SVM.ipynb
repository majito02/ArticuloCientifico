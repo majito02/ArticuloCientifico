{
 "cells": [
  {
   "cell_type": "code",
   "execution_count": 1,
   "metadata": {
    "id": "uo33Tx2auqHR"
   },
   "outputs": [],
   "source": [
    "'''Se se procede a importar los modulos necesarios.'''\n",
    "import numpy as np\n",
    "import pandas as pd\n",
    "import matplotlib.pyplot as plt\n",
    "from sklearn import svm, metrics\n",
    "from sklearn.model_selection import train_test_split\n",
    "from sklearn.feature_extraction.text import CountVectorizer\n",
    "from sklearn.metrics import confusion_matrix, ConfusionMatrixDisplay"
   ]
  },
  {
   "cell_type": "code",
   "execution_count": 2,
   "metadata": {
    "id": "u7C7pUAtuu3E"
   },
   "outputs": [],
   "source": [
    "'''Se cargan los datos del dataset con ISO-8859-1 para definir la codificación del alfabeto.'''\n",
    "df = pd.read_csv(\"spam.csv\",encoding = \"ISO-8859-1\")"
   ]
  },
  {
   "cell_type": "code",
   "execution_count": 3,
   "metadata": {
    "colab": {
     "base_uri": "https://localhost:8080/",
     "height": 206
    },
    "id": "LQIVEk9YvL2K",
    "outputId": "6f97aa96-108a-41e1-f32c-bfc9678dfd5c"
   },
   "outputs": [
    {
     "data": {
      "text/html": [
       "<div>\n",
       "<style scoped>\n",
       "    .dataframe tbody tr th:only-of-type {\n",
       "        vertical-align: middle;\n",
       "    }\n",
       "\n",
       "    .dataframe tbody tr th {\n",
       "        vertical-align: top;\n",
       "    }\n",
       "\n",
       "    .dataframe thead th {\n",
       "        text-align: right;\n",
       "    }\n",
       "</style>\n",
       "<table border=\"1\" class=\"dataframe\">\n",
       "  <thead>\n",
       "    <tr style=\"text-align: right;\">\n",
       "      <th></th>\n",
       "      <th>v1</th>\n",
       "      <th>v2</th>\n",
       "      <th>Unnamed: 2</th>\n",
       "      <th>Unnamed: 3</th>\n",
       "      <th>Unnamed: 4</th>\n",
       "    </tr>\n",
       "  </thead>\n",
       "  <tbody>\n",
       "    <tr>\n",
       "      <th>0</th>\n",
       "      <td>ham</td>\n",
       "      <td>Go until jurong point, crazy.. Available only ...</td>\n",
       "      <td>NaN</td>\n",
       "      <td>NaN</td>\n",
       "      <td>NaN</td>\n",
       "    </tr>\n",
       "    <tr>\n",
       "      <th>1</th>\n",
       "      <td>ham</td>\n",
       "      <td>Ok lar... Joking wif u oni...</td>\n",
       "      <td>NaN</td>\n",
       "      <td>NaN</td>\n",
       "      <td>NaN</td>\n",
       "    </tr>\n",
       "    <tr>\n",
       "      <th>2</th>\n",
       "      <td>spam</td>\n",
       "      <td>Free entry in 2 a wkly comp to win FA Cup fina...</td>\n",
       "      <td>NaN</td>\n",
       "      <td>NaN</td>\n",
       "      <td>NaN</td>\n",
       "    </tr>\n",
       "    <tr>\n",
       "      <th>3</th>\n",
       "      <td>ham</td>\n",
       "      <td>U dun say so early hor... U c already then say...</td>\n",
       "      <td>NaN</td>\n",
       "      <td>NaN</td>\n",
       "      <td>NaN</td>\n",
       "    </tr>\n",
       "    <tr>\n",
       "      <th>4</th>\n",
       "      <td>ham</td>\n",
       "      <td>Nah I don't think he goes to usf, he lives aro...</td>\n",
       "      <td>NaN</td>\n",
       "      <td>NaN</td>\n",
       "      <td>NaN</td>\n",
       "    </tr>\n",
       "  </tbody>\n",
       "</table>\n",
       "</div>"
      ],
      "text/plain": [
       "     v1                                                 v2 Unnamed: 2  \\\n",
       "0   ham  Go until jurong point, crazy.. Available only ...        NaN   \n",
       "1   ham                      Ok lar... Joking wif u oni...        NaN   \n",
       "2  spam  Free entry in 2 a wkly comp to win FA Cup fina...        NaN   \n",
       "3   ham  U dun say so early hor... U c already then say...        NaN   \n",
       "4   ham  Nah I don't think he goes to usf, he lives aro...        NaN   \n",
       "\n",
       "  Unnamed: 3 Unnamed: 4  \n",
       "0        NaN        NaN  \n",
       "1        NaN        NaN  \n",
       "2        NaN        NaN  \n",
       "3        NaN        NaN  \n",
       "4        NaN        NaN  "
      ]
     },
     "execution_count": 3,
     "metadata": {},
     "output_type": "execute_result"
    }
   ],
   "source": [
    "'''Se presenta las primeras filas del dataset ya que se devuelve las primeras filas.'''\n",
    "df.head()"
   ]
  },
  {
   "cell_type": "code",
   "execution_count": 4,
   "metadata": {
    "colab": {
     "base_uri": "https://localhost:8080/"
    },
    "id": "x75IEiRCvOTn",
    "outputId": "521b6f0e-0fe1-4f0d-8553-41ce576772d7"
   },
   "outputs": [
    {
     "data": {
      "text/plain": [
       "array(['ham', 'spam'], dtype=object)"
      ]
     },
     "execution_count": 4,
     "metadata": {},
     "output_type": "execute_result"
    }
   ],
   "source": [
    "'''Se verifica que que el valor de spam y no spam sean unicos.'''\n",
    "pd.unique(df.v1)"
   ]
  },
  {
   "cell_type": "code",
   "execution_count": 5,
   "metadata": {
    "id": "EYKcOzjYvTCU"
   },
   "outputs": [],
   "source": [
    "'''Se define si es spam o no spam con el uso del mapeo para cambiar a 1 si es spam y a 0 si no es spam.'''\n",
    "d1 = {'spam': 1 , 'ham': 0}\n",
    "df['v1'] = df['v1'].map(d1)"
   ]
  },
  {
   "cell_type": "code",
   "execution_count": 6,
   "metadata": {
    "colab": {
     "base_uri": "https://localhost:8080/"
    },
    "id": "i-muQCK0vUp3",
    "outputId": "142661e1-984c-4790-d91b-6ca9e198c593"
   },
   "outputs": [
    {
     "name": "stdout",
     "output_type": "stream",
     "text": [
      "número de textos: 5572\n",
      "número de etiquetas:  5572\n"
     ]
    }
   ],
   "source": [
    "'''Se define el numero de etiquetas con el metodo asarray.'''\n",
    "labels=np.asarray(df.v1)\n",
    "'''Se define el numero de texto con el metodo astype.'''\n",
    "texts=np.asarray(df.v2).astype('<U910')\n",
    "'''Se presenta el numero de textos.'''\n",
    "print(\"número de textos:\" , len(texts))\n",
    "'''Se presenta el numero de etiquetas.'''\n",
    "print(\"número de etiquetas: \", len(labels))"
   ]
  },
  {
   "cell_type": "code",
   "execution_count": 7,
   "metadata": {
    "id": "UO2BHA0dvW9A"
   },
   "outputs": [],
   "source": [
    "'''Se define las X de entrenamiento, x DE TESTEO, y de entramiento y y de testeo. Es importante destacar que train_test_split\n",
    "divide los datos de aprendizaje automático en un conjunto de entrenamiento y un conjunto de prueba.'''\n",
    "X_train, X_test, y_train, y_test = train_test_split( texts, labels, test_size=0.3, random_state=0)"
   ]
  },
  {
   "cell_type": "code",
   "execution_count": 8,
   "metadata": {
    "id": "VlKHg5Fnvpnc"
   },
   "outputs": [],
   "source": [
    " '''Se convierte texto en datos numéricos con la función CountVectorizer().'''\n",
    "cv = CountVectorizer() \n",
    " '''Se realiza el cálculo y luego hacer una transformación entrenamiento de X_train.'''\n",
    "X_train = cv.fit_transform(X_train)\n",
    " '''Se realiza la transformación de X_train.'''\n",
    "X_test = cv.transform(X_test)"
   ]
  },
  {
   "cell_type": "code",
   "execution_count": 9,
   "metadata": {
    "id": "-MfSB1JGvtCT"
   },
   "outputs": [],
   "source": [
    " '''Se realiza la transformación de X_train.'''\n",
    "clf = svm.SVC(kernel = 'linear', random_state = 10)\n",
    " '''Se realiza el entrenamiento de X_train, y_train.'''\n",
    "clf.fit(X_train, y_train)\n",
    " '''Se realiza la predicción de X_test.'''\n",
    "y_pred = clf.predict(X_test)"
   ]
  },
  {
   "cell_type": "code",
   "execution_count": 10,
   "metadata": {
    "colab": {
     "base_uri": "https://localhost:8080/"
    },
    "id": "rLylHCONxD4-",
    "outputId": "3e67937d-216b-45a0-9e00-f6af4a4b4549"
   },
   "outputs": [
    {
     "name": "stdout",
     "output_type": "stream",
     "text": [
      "Accuracy: 0.9814593301435407\n",
      "Precision: 0.9813953488372092\n",
      "Recall: 0.8865546218487395\n"
     ]
    }
   ],
   "source": [
    "'''Se calcula Accuracy con el uso de accuracy_score en la y de testeo y Y de predicción.'''\n",
    "print(\"Accuracy:\", metrics.accuracy_score(y_test, y_pred))\n",
    "'''Se calcula Precision con el uso de precision_score en la y de testeo y Y de predicción.'''\n",
    "print(\"Precision:\", metrics.precision_score(y_test, y_pred))\n",
    "'''Se calcula Recall con el uso de recall_score en la y de testeo y Y de predicción.'''\n",
    "print(\"Recall:\", metrics.recall_score(y_test, y_pred))\n"
   ]
  },
  {
   "cell_type": "code",
   "execution_count": 11,
   "metadata": {
    "colab": {
     "base_uri": "https://localhost:8080/",
     "height": 279
    },
    "id": "isnGIzbixJMQ",
    "outputId": "0031389b-c7be-46fe-b0c7-8bd18e9d53d8"
   },
   "outputs": [
    {
     "data": {
      "image/png": "[encoded data removed]",
      "text/plain": [
       "<Figure size 432x288 with 2 Axes>"
      ]
     },
     "metadata": {
      "needs_background": "light"
     },
     "output_type": "display_data"
    }
   ],
   "source": [
    "'''Se define la matriz de confusión de pred, y_test.'''\n",
    "cm = confusion_matrix(y_test, y_pred, labels=clf.classes_)\n",
    "'''Con ConfusionMatrixDisplay se visualiza la matriz de confusión.'''\n",
    "disp = ConfusionMatrixDisplay(confusion_matrix=cm, display_labels=clf.classes_)\n",
    "'''Se procede a dibujar marcadores en el diagrama.'''\n",
    "disp.plot()\n",
    "'''Muestra la matriz de confusión.'''\n",
    "plt.show()"
   ]
  },
  {
   "cell_type": "code",
   "execution_count": null,
   "metadata": {
    "id": "_gAv8YjZ3v-w"
   },
   "outputs": [],
   "source": []
  },
  {
   "cell_type": "code",
   "execution_count": null,
   "metadata": {},
   "outputs": [],
   "source": []
  }
 ],
 "metadata": {
  "colab": {
   "collapsed_sections": [],
   "name": "SPAM_SVM (1).ipynb",
   "provenance": []
  },
  "kernelspec": {
   "display_name": "Python 3 (ipykernel)",
   "language": "python",
   "name": "python3"
  },
  "language_info": {
   "codemirror_mode": {
    "name": "ipython",
    "version": 3
   },
   "file_extension": ".py",
   "mimetype": "text/x-python",
   "name": "python",
   "nbconvert_exporter": "python",
   "pygments_lexer": "ipython3",
   "version": "3.9.12"
  }
 },
 "nbformat": 4,
 "nbformat_minor": 1
}
